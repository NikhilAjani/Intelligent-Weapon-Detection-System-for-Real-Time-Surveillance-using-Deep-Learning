{
 "cells": [
  {
   "cell_type": "code",
   "execution_count": 1,
   "metadata": {},
   "outputs": [
    {
     "name": "stdout",
     "output_type": "stream",
     "text": [
      "pygame 2.6.1 (SDL 2.28.4, Python 3.11.11)\n",
      "Hello from the pygame community. https://www.pygame.org/contribute.html\n"
     ]
    }
   ],
   "source": [
    "import cv2\n",
    "import numpy as np\n",
    "from twilio.rest import Client\n",
    "import pygame\n",
    "import tkinter as tk\n",
    "from tkinter import ttk\n",
    "from threading import Thread\n",
    "import time"
   ]
  },
  {
   "cell_type": "code",
   "execution_count": 2,
   "metadata": {},
   "outputs": [],
   "source": [
    "account_sid = 'twilio_account_sid'\n",
    "auth_token = 'twilio_auth_token'\n",
    "twilio_phone_number = 'twilio_phone_number'\n",
    "user_phone_number = 'your_phone_number'"
   ]
  },
  {
   "cell_type": "code",
   "execution_count": 3,
   "metadata": {},
   "outputs": [],
   "source": [
    "client = Client(account_sid, auth_token)"
   ]
  },
  {
   "cell_type": "code",
   "execution_count": 4,
   "metadata": {},
   "outputs": [],
   "source": [
    "def send_alert(message):\n",
    "    \"\"\"Send SMS alert using Twilio.\"\"\"\n",
    "    client.messages.create(\n",
    "        body=message,\n",
    "        from_=twilio_phone_number,\n",
    "        to=user_phone_number\n",
    "    )\n",
    "    print(\"Alert sent to user.\")"
   ]
  },
  {
   "cell_type": "code",
   "execution_count": 5,
   "metadata": {},
   "outputs": [],
   "source": [
    "pygame.init()\n",
    "SIREN_PATH = r\"path to siren.wav\"\n",
    "siren_sound = pygame.mixer.Sound(SIREN_PATH)"
   ]
  },
  {
   "cell_type": "code",
   "execution_count": 6,
   "metadata": {},
   "outputs": [
    {
     "name": "stdout",
     "output_type": "stream",
     "text": [
      "Loading custom YOLOv4 model...\n"
     ]
    }
   ],
   "source": [
    "print(\"Loading custom YOLOv4 model...\")\n",
    "net = cv2.dnn.readNet(r'path to handgun_yolov4.weights', r'path to yolov4-obj.cfg')\n",
    "net.setPreferableBackend(cv2.dnn.DNN_BACKEND_CUDA)\n",
    "net.setPreferableTarget(cv2.dnn.DNN_TARGET_CUDA)"
   ]
  },
  {
   "cell_type": "code",
   "execution_count": 7,
   "metadata": {},
   "outputs": [],
   "source": [
    "with open(r'path to obj.names', 'r') as f:\n",
    "    classes = f.read().strip().split('\\n')"
   ]
  },
  {
   "cell_type": "code",
   "execution_count": 8,
   "metadata": {},
   "outputs": [],
   "source": [
    "class WeaponDetectionApp:\n",
    "    def __init__(self, root):\n",
    "        self.root = root\n",
    "        self.root.title(\"Weapon Detection System\")\n",
    "        self.root.geometry(\"800x500\")\n",
    "        self.root.config(bg=\"#2E2E2E\")\n",
    "\n",
    "        self.is_running = False\n",
    "        self.siren_playing = False\n",
    "        self.video_capture = None\n",
    "        self.last_alert_time = 0\n",
    "\n",
    "        header = tk.Label(self.root, text=\"Weapon Detection System\", \n",
    "                          font=(\"Helvetica\", 24, \"bold\"), bg=\"#3B3B3B\", fg=\"white\")\n",
    "        header.pack(fill=tk.X, pady=(10, 0))\n",
    "\n",
    "        main_frame = ttk.Frame(self.root, padding=20)\n",
    "        main_frame.pack(expand=True, fill=tk.BOTH)\n",
    "\n",
    "        self.status_label = ttk.Label(main_frame, text=\"Status: Idle\", \n",
    "                                      font=(\"Arial\", 18), foreground=\"#FF6347\")\n",
    "        self.status_label.pack(pady=10)\n",
    "\n",
    "        button_frame = ttk.Frame(main_frame)\n",
    "        button_frame.pack(pady=20)\n",
    "\n",
    "        self.start_button = ttk.Button(button_frame, text=\"Start Detection\", \n",
    "                                       command=self.start_detection)\n",
    "        self.start_button.grid(row=0, column=0, padx=10)\n",
    "\n",
    "        self.stop_button = ttk.Button(button_frame, text=\"Stop Detection\", \n",
    "                                      command=self.stop_detection)\n",
    "        self.stop_button.grid(row=0, column=1, padx=10)\n",
    "\n",
    "        self.quit_button = ttk.Button(button_frame, text=\"Quit\", \n",
    "                                      command=self.quit_application)\n",
    "        self.quit_button.grid(row=0, column=2, padx=10)\n",
    "\n",
    "    def start_detection(self):\n",
    "        \"\"\"Start the detection thread.\"\"\"\n",
    "        if not self.is_running:\n",
    "            self.is_running = True\n",
    "            self.video_capture = cv2.VideoCapture(0)\n",
    "            self.status_label.config(text=\"Status: Running...\", foreground=\"green\")\n",
    "            Thread(target=self.detect_objects_in_camera, daemon=True).start()\n",
    "\n",
    "    def stop_detection(self):\n",
    "        \"\"\"Stop the detection.\"\"\"\n",
    "        self.is_running = False\n",
    "        if self.video_capture:\n",
    "            self.video_capture.release()\n",
    "        self.status_label.config(text=\"Status: Stopped\", foreground=\"orange\")\n",
    "        siren_sound.stop()\n",
    "\n",
    "    def detect_objects_in_camera(self):\n",
    "        \"\"\"Detect objects using the camera and YOLOv4.\"\"\"\n",
    "        while self.is_running:\n",
    "            ret, frame = self.video_capture.read()\n",
    "            if not ret:\n",
    "                self.status_label.config(text=\"Status: Camera Error\", foreground=\"red\")\n",
    "                break\n",
    "\n",
    "            frame = cv2.flip(frame, 1)\n",
    "\n",
    "            blob = cv2.dnn.blobFromImage(frame, 1 / 255.0, (416, 416), swapRB=True, crop=False)\n",
    "            net.setInput(blob)\n",
    "            outputs = net.forward(net.getUnconnectedOutLayersNames())\n",
    "\n",
    "            height, width = frame.shape[:2]\n",
    "            boxes, confidences, class_ids = [], [], []\n",
    "            weapon_detected = False\n",
    "\n",
    "            for output in outputs:\n",
    "                for detection in output:\n",
    "                    scores = detection[5:]\n",
    "                    class_id = np.argmax(scores)\n",
    "                    confidence = scores[class_id]\n",
    "\n",
    "                    if confidence > 0.5:\n",
    "                        box = detection[:4] * np.array([width, height, width, height])\n",
    "                        (center_x, center_y, w, h) = box.astype('int')\n",
    "                        x = int(center_x - w / 2)\n",
    "                        y = int(center_y - h / 2)\n",
    "\n",
    "                        boxes.append([x, y, int(w), int(h)])\n",
    "                        confidences.append(float(confidence))\n",
    "                        class_ids.append(class_id)\n",
    "\n",
    "                        if classes[class_id] in [\"Handgun\"]:\n",
    "                            weapon_detected = True\n",
    "\n",
    "            indices = cv2.dnn.NMSBoxes(boxes, confidences, 0.5, 0.4)\n",
    "\n",
    "            if len(indices) > 0:\n",
    "                for i in indices.flatten():\n",
    "                    x, y, w, h = boxes[i]\n",
    "                    class_name = classes[class_ids[i]] if class_ids[i] < len(classes) else \"Unknown\"\n",
    "                    label = f\"{class_name}: {confidences[i]:.2f}\"\n",
    "                    color = (0, 255, 0)\n",
    "                    cv2.rectangle(frame, (x, y), (x + w, y + h), color, 2)\n",
    "                    cv2.putText(frame, label, (x, y - 10), cv2.FONT_HERSHEY_SIMPLEX, 0.5, color, 2)\n",
    "\n",
    "            if weapon_detected:\n",
    "                if not self.siren_playing:\n",
    "                    siren_sound.play(-1) \n",
    "                    self.siren_playing = True\n",
    "\n",
    "                current_time = time.time()\n",
    "                if current_time - self.last_alert_time > 0.5:\n",
    "                    send_alert(\"Alert! Handgun detected!\")\n",
    "                    self.last_alert_time = current_time\n",
    "            # else:\n",
    "            #     if self.siren_playing:\n",
    "            #         siren_sound.stop()\n",
    "            #         self.siren_playing = False\n",
    "\n",
    "            cv2.imshow(\"Weapon Detection System\", frame)\n",
    "\n",
    "            if cv2.waitKey(1) & 0xFF == ord('q'):\n",
    "                break\n",
    "\n",
    "        self.stop_detection()\n",
    "        cv2.destroyAllWindows()\n",
    "\n",
    "    def quit_application(self):\n",
    "        \"\"\"Quit the application.\"\"\"\n",
    "        self.stop_detection()\n",
    "        pygame.quit()\n",
    "        self.root.destroy()"
   ]
  },
  {
   "cell_type": "code",
   "execution_count": 9,
   "metadata": {},
   "outputs": [
    {
     "name": "stdout",
     "output_type": "stream",
     "text": [
      "Alert sent to user.\n",
      "Alert sent to user.\n",
      "Alert sent to user.\n",
      "Alert sent to user.\n",
      "Alert sent to user.\n",
      "Alert sent to user.\n",
      "Alert sent to user.\n",
      "Alert sent to user.\n"
     ]
    }
   ],
   "source": [
    "if __name__ == \"__main__\":\n",
    "    root = tk.Tk()\n",
    "    app = WeaponDetectionApp(root)\n",
    "    root.mainloop()"
   ]
  },
  {
   "cell_type": "code",
   "execution_count": null,
   "metadata": {},
   "outputs": [],
   "source": []
  },
  {
   "cell_type": "code",
   "execution_count": null,
   "metadata": {},
   "outputs": [],
   "source": []
  }
 ],
 "metadata": {
  "kernelspec": {
   "display_name": "_DLCV",
   "language": "python",
   "name": "python3"
  },
  "language_info": {
   "codemirror_mode": {
    "name": "ipython",
    "version": 3
   },
   "file_extension": ".py",
   "mimetype": "text/x-python",
   "name": "python",
   "nbconvert_exporter": "python",
   "pygments_lexer": "ipython3",
   "version": "3.11.11"
  }
 },
 "nbformat": 4,
 "nbformat_minor": 2
}
